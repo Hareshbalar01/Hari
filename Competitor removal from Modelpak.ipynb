{
 "cells": [
  {
   "cell_type": "markdown",
   "metadata": {},
   "source": [
    "Remove competitors from model pak\n",
    "\n",
    "\n",
    "\n"
   ]
  },
  {
   "cell_type": "code",
   "execution_count": 58,
   "metadata": {},
   "outputs": [],
   "source": [
    "list1 = [[1,'p=1(15)','t=',2,3,4,5,6,7,'(15)',8,'(16)'], [2,'p=2(15)','t=',3,4,5,6,7,9,'(15)',11,'(16)'], [3,'p=3(15)','t=',1,2,4,5,7,8,9,'(15)'], [4,'p=4(15)','t=',1,2,5,7,8,9,'(15)'],[5,'p=5(15)','t=',1,2,7,8,9,'(15)'],[6,'p=6(15)','t=',1,2,7,8,9,'(15)',11,12,'(16)'],[7,'p=7(15)','t=',1,2,8,9,'(15)',12,'(16)']]\n",
    "list2 = [[1,2],[1,8],[1,9],[2,4],[2,9],[3,7],[3,8],[4,1],[1,3]]"
   ]
  },
  {
   "cell_type": "code",
   "execution_count": 29,
   "metadata": {},
   "outputs": [],
   "source": [
    "listx = [[1,'p=1(15)','t=',2,3,4,5,6,7,'(15)',8,'(16)'], [2,'p=2(15)','t=',3,4,5,6,7,9,'(15)',11,'(16)'], [3,'p=3(15)','t=',1,2,4,5,7,8,9,'(15)'], [4,'p=4(15)','t=',1,2,5,7,8,9,'(15)'],[5,'p=5(15)','t=',1,2,7,8,9,'(15)'],[6,'p=6(15)','t=',1,2,7,8,9,'(15)',11,12,'(16)'],[7,'p=7(15)','t=',1,2,8,9,'(15)',12,'(16)']]\n",
    "listy = [[1,2],[1,8],[1,9],[2,4],[2,9],[3,7],[3,8],[4,1],[1,3]]"
   ]
  },
  {
   "cell_type": "code",
   "execution_count": 30,
   "metadata": {},
   "outputs": [
    {
     "data": {
      "text/plain": [
       "[[1, 'p=1(15)', 't=', 2, 3, 4, 5, 6, 7, '(15)', 8, '(16)'],\n",
       " [2, 'p=2(15)', 't=', 3, 4, 5, 6, 7, 9, '(15)', 11, '(16)'],\n",
       " [3, 'p=3(15)', 't=', 1, 2, 4, 5, 7, 8, 9, '(15)'],\n",
       " [4, 'p=4(15)', 't=', 1, 2, 5, 7, 8, 9, '(15)'],\n",
       " [5, 'p=5(15)', 't=', 1, 2, 7, 8, 9, '(15)'],\n",
       " [6, 'p=6(15)', 't=', 1, 2, 7, 8, 9, '(15)', 11, 12, '(16)'],\n",
       " [7, 'p=7(15)', 't=', 1, 2, 8, 9, '(15)', 12, '(16)']]"
      ]
     },
     "execution_count": 30,
     "metadata": {},
     "output_type": "execute_result"
    }
   ],
   "source": [
    "listx"
   ]
  },
  {
   "cell_type": "code",
   "execution_count": 31,
   "metadata": {},
   "outputs": [
    {
     "data": {
      "text/plain": [
       "[[1, 2], [1, 8], [1, 9], [2, 4], [2, 9], [3, 7], [3, 8], [4, 1], [1, 3]]"
      ]
     },
     "execution_count": 31,
     "metadata": {},
     "output_type": "execute_result"
    }
   ],
   "source": [
    "listy"
   ]
  },
  {
   "cell_type": "code",
   "execution_count": 60,
   "metadata": {},
   "outputs": [
    {
     "name": "stdout",
     "output_type": "stream",
     "text": [
      "1 p=1(15) t= 4 5 6 7 (15) 2 8 3 (16) \n",
      "2 p=2(15) t= 3 5 6 7 (15) 11 4 9 (16) \n",
      "3 p=3(15) t= 1 2 4 5 9 (15) 7 8 (16) \n",
      "4 p=4(15) t= 2 5 7 8 9 (15) 1 (16) \n",
      "5 p=5(15) t= 1 2 7 8 9 (15) \n",
      "6 p=6(15) t= 1 2 7 8 9 (15) 11 12 (16) \n",
      "7 p=7(15) t= 1 2 8 9 (15) 12 (16) \n"
     ]
    }
   ],
   "source": [
    "# use this code if competitor is already removed from list\n",
    "    \n",
    "for i in range(len(list1)):                        \n",
    "    for j in range(len(list2)):\n",
    "        if list1[i][0] == list2[j][0] and (list2[j][1] and '(16)' )in list1[i]:\n",
    "            list1[i].remove('(16)')\n",
    "            list1[i].remove(list2[j][1])\n",
    "            list1[i].append(list2[j][1])\n",
    "            #list1[i].append('(16)')\n",
    "                #print(list1)\n",
    "        elif list1[i][0] == list2[j][0] and list2[j][1] in list1[i]:\n",
    "            list1[i].remove(list2[j][1])\n",
    "            list1[i].append(list2[j][1])\n",
    "            #list1[i].append('(16)')\n",
    "        else:\n",
    "            continue\n",
    "    if list1[i][-1] != '(15)' and list1[i][-1] != '(16)' :\n",
    "        list1[i].append('(16)')\n",
    "#print(list1)\n",
    "        \n",
    "for i in range(len(list1)):\n",
    "    for j in range(len(list1[i])):\n",
    "        print(list1[i][j], end=' ')\n",
    "    print()"
   ]
  },
  {
   "cell_type": "code",
   "execution_count": null,
   "metadata": {},
   "outputs": [],
   "source": []
  }
 ],
 "metadata": {
  "kernelspec": {
   "display_name": "Python 3",
   "language": "python",
   "name": "python3"
  },
  "language_info": {
   "codemirror_mode": {
    "name": "ipython",
    "version": 3
   },
   "file_extension": ".py",
   "mimetype": "text/x-python",
   "name": "python",
   "nbconvert_exporter": "python",
   "pygments_lexer": "ipython3",
   "version": "3.6.5"
  }
 },
 "nbformat": 4,
 "nbformat_minor": 2
}
